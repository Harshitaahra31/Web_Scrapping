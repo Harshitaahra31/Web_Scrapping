{
 "cells": [
  {
   "cell_type": "code",
   "execution_count": null,
   "id": "8a1b4c57",
   "metadata": {},
   "outputs": [],
   "source": [
    "#imported important libraries for scrapping\n",
    "from selenium import webdriver\n",
    "import time\n",
    "import pandas as pd\n",
    "import os\n",
    "import gspread\n",
    "from selenium.webdriver.common.by import By\n",
    "\n"
   ]
  },
  {
   "cell_type": "code",
   "execution_count": null,
   "id": "007bfbe2",
   "metadata": {},
   "outputs": [],
   "source": [
    "from selenium.webdriver.support.select import Select\n",
    "from selenium.webdriver.support.ui import WebDriverWait \n",
    "from selenium.webdriver.support import expected_conditions as EC\n"
   ]
  },
  {
   "cell_type": "code",
   "execution_count": null,
   "id": "cd980331",
   "metadata": {},
   "outputs": [],
   "source": [
    "# linkedin webpage URL\n",
    "url1=\"https://www.linkedin.com/jobs/search?keywords=&location=Worldwide&locationId=&geoId=92000000&f_TPR=&f_JT=F%2CC&f_WT=2&position=1&pageNum=0\""
   ]
  },
  {
   "cell_type": "code",
   "execution_count": null,
   "id": "3e8cd530",
   "metadata": {},
   "outputs": [],
   "source": [
    "# intialzaing web driver\n",
    "driver = webdriver.Chrome()"
   ]
  },
  {
   "cell_type": "code",
   "execution_count": null,
   "id": "9fd37e7a",
   "metadata": {},
   "outputs": [],
   "source": [
    "# opening webpage with driver\n",
    "driver.get(url1)\n",
    "driver.implicitly_wait(10)"
   ]
  },
  {
   "cell_type": "code",
   "execution_count": null,
   "id": "97d37a24",
   "metadata": {},
   "outputs": [],
   "source": [
    "# total number of job posted \n",
    "y = driver.find_elements(By.CLASS_NAME, \"results-context-header__job-count \")[0].text"
   ]
  },
  {
   "cell_type": "code",
   "execution_count": null,
   "id": "66cb6f90",
   "metadata": {},
   "outputs": [],
   "source": [
    "print(y)"
   ]
  },
  {
   "cell_type": "code",
   "execution_count": null,
   "id": "ab08d81e",
   "metadata": {},
   "outputs": [],
   "source": [
    "y1=\"\"\n",
    "for i in y:\n",
    "    if i==\",\" or i==\"+\":\n",
    "        continue \n",
    "    else:\n",
    "        y1+=i"
   ]
  },
  {
   "cell_type": "code",
   "execution_count": null,
   "id": "c7f3f16b",
   "metadata": {},
   "outputs": [],
   "source": [
    "print(y1)"
   ]
  },
  {
   "cell_type": "code",
   "execution_count": null,
   "id": "b2b5e2f7",
   "metadata": {},
   "outputs": [],
   "source": [
    "n = pd.to_numeric(y1)"
   ]
  },
  {
   "cell_type": "code",
   "execution_count": null,
   "id": "9f504e4f",
   "metadata": {},
   "outputs": [],
   "source": [
    "#  for infinite scrolling and tap on the button\n",
    "\n",
    "time.sleep(3)\n",
    "pre_height= driver.execute_script('return document.body.scrollHeight')\n",
    "while True:\n",
    "    driver.execute_script('window.scrollTo(0,document.body.scrollHeight);')\n",
    "    \n",
    "    time.sleep(3)\n",
    "    new_height=driver.execute_script('return document.body.scrollHeight')\n",
    "    if new_height==pre_height:\n",
    "        break\n",
    "    pre_height=new_height  \n",
    "    \n",
    "    \n",
    "    try:\n",
    "        send=driver.find_element(by.XPATH,'//button[@aria-label=\"See more jobs\"]')\n",
    "        driver.execute_script(\"arguments[0].click();\", send)   \n",
    "        time.sleep(3)\n",
    "    \n",
    "    except:\n",
    "        pass\n",
    "        time.sleep(4)\n",
    "        \n"
   ]
  },
  {
   "cell_type": "code",
   "execution_count": null,
   "id": "203f5c0f",
   "metadata": {},
   "outputs": [],
   "source": [
    "# scrapping companies names\n",
    "companyname=[]\n",
    "try:\n",
    "    for i in range(n):\n",
    "        company=driver.find_elements(By.CLASS_NAME,'base-search-card__subtitle')[i].text\n",
    "        companyname.append(company)\n",
    "        \n",
    "        \n",
    "        \n",
    "            \n",
    "    \n",
    "\n",
    "        \n",
    "    \n",
    "\n",
    "    \n",
    "    \n",
    "except IndexError:\n",
    "    print(\"no\")\n",
    "        "
   ]
  },
  {
   "cell_type": "code",
   "execution_count": null,
   "id": "f0a04653",
   "metadata": {},
   "outputs": [],
   "source": [
    "print(companyname)"
   ]
  },
  {
   "cell_type": "code",
   "execution_count": null,
   "id": "83cfe356",
   "metadata": {},
   "outputs": [],
   "source": [
    "# scrapping job_titles\n",
    "job_title=[]\n",
    "try:\n",
    "    for i in range(n):\n",
    "        title=driver.find_elements(By.CLASS_NAME,'base-search-card__title')[i].text\n",
    "        job_title.append(title)\n",
    "        \n",
    "            \n",
    "    \n",
    "\n",
    "        \n",
    "    \n",
    "\n",
    "    \n",
    "    \n",
    "except IndexError:\n",
    "    print(\"no\")"
   ]
  },
  {
   "cell_type": "code",
   "execution_count": null,
   "id": "5cdf9bb6",
   "metadata": {},
   "outputs": [],
   "source": [
    "print(job_title)"
   ]
  },
  {
   "cell_type": "code",
   "execution_count": null,
   "id": "8b5f516c",
   "metadata": {},
   "outputs": [],
   "source": [
    "# scrapping job locations\n",
    "location =[]\n",
    "try:\n",
    "    for i in range(n):\n",
    "        location1=driver.find_elements(By.CLASS_NAME,'job-search-card__location')[i].text\n",
    "        location.append(location1)\n",
    "        \n",
    "            \n",
    "    \n",
    "\n",
    "        \n",
    "    \n",
    "\n",
    "    \n",
    "    \n",
    "except IndexError:\n",
    "    print(\"no\")"
   ]
  },
  {
   "cell_type": "code",
   "execution_count": null,
   "id": "007055f5",
   "metadata": {},
   "outputs": [],
   "source": [
    "print(location)"
   ]
  },
  {
   "cell_type": "code",
   "execution_count": null,
   "id": "12930a48",
   "metadata": {},
   "outputs": [],
   "source": [
    "# scrapping jobs links\n",
    "jobList = driver.find_elements(By.CLASS_NAME,'base-card__full-link')\n",
    "hrefList = []\n",
    "for e in jobList:\n",
    "    hrefList.append(e.get_attribute('href'))"
   ]
  },
  {
   "cell_type": "code",
   "execution_count": null,
   "id": "8e0e4a09",
   "metadata": {},
   "outputs": [],
   "source": [
    "print(hrefList)"
   ]
  },
  {
   "cell_type": "code",
   "execution_count": null,
   "id": "fe76b348",
   "metadata": {},
   "outputs": [],
   "source": [
    "# scrapping job types\n",
    "job_type=[]\n",
    "try:\n",
    "    for i in range(n):\n",
    "        j_type=driver.find_elements(By.CLASS_NAME,'description__job-criteria-item')[i].text\n",
    "        job_type.append(j_type)\n",
    "        \n",
    "            \n",
    "    \n",
    "\n",
    "        \n",
    "    \n",
    "\n",
    "    \n",
    "    \n",
    "except IndexError:\n",
    "    print(\"no\")"
   ]
  },
  {
   "cell_type": "code",
   "execution_count": null,
   "id": "c0f7dd4a",
   "metadata": {},
   "outputs": [],
   "source": [
    "print(job_type)"
   ]
  },
  {
   "cell_type": "code",
   "execution_count": null,
   "id": "deba4b3f",
   "metadata": {},
   "outputs": [],
   "source": [
    "#converting data into dataframe\n",
    "data = {\"company\": companyname, \"title\": job_title,\"location\":location,\"link\": hrefList}\n",
    "df = pd.DataFrame(data)"
   ]
  },
  {
   "cell_type": "code",
   "execution_count": null,
   "id": "e492ddd6",
   "metadata": {},
   "outputs": [],
   "source": [
    "df"
   ]
  },
  {
   "cell_type": "code",
   "execution_count": null,
   "id": "386d062e",
   "metadata": {},
   "outputs": [],
   "source": [
    "# downloading data into csv files\n",
    "df.to_csv('Linkedin.csv')\n",
    "        "
   ]
  }
 ],
 "metadata": {
  "kernelspec": {
   "display_name": "Python 3 (ipykernel)",
   "language": "python",
   "name": "python3"
  },
  "language_info": {
   "codemirror_mode": {
    "name": "ipython",
    "version": 3
   },
   "file_extension": ".py",
   "mimetype": "text/x-python",
   "name": "python",
   "nbconvert_exporter": "python",
   "pygments_lexer": "ipython3",
   "version": "3.9.13"
  }
 },
 "nbformat": 4,
 "nbformat_minor": 5
}
